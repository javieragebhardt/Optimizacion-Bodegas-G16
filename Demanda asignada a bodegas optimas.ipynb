{
 "cells": [
  {
   "cell_type": "markdown",
   "metadata": {},
   "source": [
    "Juntamos Asignaciones Caso  con las demandas por bodega, para determinar cuanta demanda es asignada a cada una de las bodegas que se abrem "
   ]
  },
  {
   "cell_type": "code",
   "execution_count": 33,
   "metadata": {},
   "outputs": [],
   "source": [
    "import pandas as pd\n",
    "import numpy as np\n",
    "import matplotlib.pyplot as plt"
   ]
  },
  {
   "cell_type": "code",
   "execution_count": 26,
   "metadata": {},
   "outputs": [],
   "source": [
    "# Bases de datos\n",
    "\n",
    "# Ventas categorizadas y asignación resultante\n",
    "bdd_ventas = pd.read_excel(\"BDD_Bodegas_Categorizada.xlsx\")\n",
    "bdd_asignaciones = pd.read_excel(\"Resultados/tiempos_p_3_Manhattan.xlsx\")\n",
    "bdd_ventas['Fecha'] = pd.to_datetime(bdd_ventas['Fecha'])\n",
    "bdd_ventas['Año'] = bdd_ventas['Fecha'].dt.year\n",
    "\n",
    "# Proyecciones categorizadas y asignación resultante\n",
    "bdd_proyecciones = pd.read_excel(\"BDD_Bodegas_Categorizada_proy.xlsx\")\n",
    "bdd_asignaciones_proy = pd.read_excel(\"Resultados/tiempos_p_3_Manhattan_proy.xlsx\")\n",
    "\n",
    "#Comunas\n",
    "bdd_comunas = pd.read_excel(\"BDD_Bodegas.xlsx\", sheet_name=3)\n"
   ]
  },
  {
   "cell_type": "code",
   "execution_count": 27,
   "metadata": {},
   "outputs": [],
   "source": [
    "# Agrupación de ventas por cliente \n",
    "bdd_ventas_agrupadas = bdd_ventas.groupby(['ID Cliente', 'Año']).agg({\"Cantidad\": \"sum\", \"Comuna Despacho\": \"first\", 'ID Bodega Despacho': 'first', 'Categoria': 'first'}).reset_index()\n",
    "bdd_ventas_agrupadas = bdd_ventas_agrupadas.merge(bdd_comunas, left_on='Comuna Despacho', right_on='Comuna')\n",
    "bdd_ventas_agrupadas['Cantidad'] = bdd_ventas_agrupadas['Cantidad'].apply(lambda x: 0.01 if x == 0 else x)\n",
    "\n",
    "# Agrupación de proyecciones por cliente\n",
    "bdd_proyecciones_agrupadas = bdd_proyecciones.groupby(\"ID Cliente\").agg({\"Cantidad\": \"sum\", \"Comuna Despacho\": \"first\", 'ID Bodega Despacho': 'first', 'Categoria': 'first'}).reset_index()\n",
    "bdd_proyecciones_agrupadas = bdd_proyecciones_agrupadas.merge(bdd_comunas, left_on='Comuna Despacho', right_on='Comuna')\n",
    "bdd_proyecciones_agrupadas['Cantidad'] = bdd_proyecciones_agrupadas['Cantidad'].apply(lambda x: 0.01 if x == 0 else x)"
   ]
  },
  {
   "cell_type": "code",
   "execution_count": 28,
   "metadata": {},
   "outputs": [],
   "source": [
    "bdd_historica = bdd_ventas_agrupadas.merge(bdd_asignaciones, left_on = \"ID Cliente\", right_on = \"Unnamed: 0\" )\n",
    "bdd_proyecciones = bdd_proyecciones_agrupadas.merge(bdd_asignaciones_proy, left_on = \"ID Cliente\", right_on = \"Unnamed: 0\" )"
   ]
  },
  {
   "cell_type": "code",
   "execution_count": 29,
   "metadata": {},
   "outputs": [],
   "source": [
    "resultado_1 = bdd_historica.groupby(['Bodega Asignada', 'Año'])['Cantidad'].sum().reset_index()\n",
    "resultado_2 = bdd_proyecciones.groupby('Bodega Asignada')['Cantidad'].sum().reset_index()"
   ]
  },
  {
   "cell_type": "code",
   "execution_count": 32,
   "metadata": {},
   "outputs": [
    {
     "data": {
      "text/html": [
       "<div>\n",
       "<style scoped>\n",
       "    .dataframe tbody tr th:only-of-type {\n",
       "        vertical-align: middle;\n",
       "    }\n",
       "\n",
       "    .dataframe tbody tr th {\n",
       "        vertical-align: top;\n",
       "    }\n",
       "\n",
       "    .dataframe thead th {\n",
       "        text-align: right;\n",
       "    }\n",
       "</style>\n",
       "<table border=\"1\" class=\"dataframe\">\n",
       "  <thead>\n",
       "    <tr style=\"text-align: right;\">\n",
       "      <th></th>\n",
       "      <th>Bodega Asignada</th>\n",
       "      <th>Año</th>\n",
       "      <th>Cantidad</th>\n",
       "    </tr>\n",
       "  </thead>\n",
       "  <tbody>\n",
       "    <tr>\n",
       "      <th>0</th>\n",
       "      <td>1</td>\n",
       "      <td>2017</td>\n",
       "      <td>7.052968e+04</td>\n",
       "    </tr>\n",
       "    <tr>\n",
       "      <th>1</th>\n",
       "      <td>1</td>\n",
       "      <td>2018</td>\n",
       "      <td>1.117268e+05</td>\n",
       "    </tr>\n",
       "    <tr>\n",
       "      <th>2</th>\n",
       "      <td>1</td>\n",
       "      <td>2019</td>\n",
       "      <td>1.201880e+05</td>\n",
       "    </tr>\n",
       "    <tr>\n",
       "      <th>3</th>\n",
       "      <td>1</td>\n",
       "      <td>2020</td>\n",
       "      <td>1.541155e+05</td>\n",
       "    </tr>\n",
       "    <tr>\n",
       "      <th>4</th>\n",
       "      <td>1</td>\n",
       "      <td>2021</td>\n",
       "      <td>2.952299e+05</td>\n",
       "    </tr>\n",
       "    <tr>\n",
       "      <th>5</th>\n",
       "      <td>1</td>\n",
       "      <td>2022</td>\n",
       "      <td>1.571276e+05</td>\n",
       "    </tr>\n",
       "    <tr>\n",
       "      <th>6</th>\n",
       "      <td>4</td>\n",
       "      <td>2017</td>\n",
       "      <td>1.658810e+05</td>\n",
       "    </tr>\n",
       "    <tr>\n",
       "      <th>7</th>\n",
       "      <td>4</td>\n",
       "      <td>2018</td>\n",
       "      <td>2.428851e+05</td>\n",
       "    </tr>\n",
       "    <tr>\n",
       "      <th>8</th>\n",
       "      <td>4</td>\n",
       "      <td>2019</td>\n",
       "      <td>3.156269e+05</td>\n",
       "    </tr>\n",
       "    <tr>\n",
       "      <th>9</th>\n",
       "      <td>4</td>\n",
       "      <td>2020</td>\n",
       "      <td>3.546894e+05</td>\n",
       "    </tr>\n",
       "    <tr>\n",
       "      <th>10</th>\n",
       "      <td>4</td>\n",
       "      <td>2021</td>\n",
       "      <td>1.293908e+06</td>\n",
       "    </tr>\n",
       "    <tr>\n",
       "      <th>11</th>\n",
       "      <td>4</td>\n",
       "      <td>2022</td>\n",
       "      <td>1.123494e+06</td>\n",
       "    </tr>\n",
       "    <tr>\n",
       "      <th>12</th>\n",
       "      <td>8</td>\n",
       "      <td>2017</td>\n",
       "      <td>1.281406e+05</td>\n",
       "    </tr>\n",
       "    <tr>\n",
       "      <th>13</th>\n",
       "      <td>8</td>\n",
       "      <td>2018</td>\n",
       "      <td>1.644386e+05</td>\n",
       "    </tr>\n",
       "    <tr>\n",
       "      <th>14</th>\n",
       "      <td>8</td>\n",
       "      <td>2019</td>\n",
       "      <td>2.151663e+05</td>\n",
       "    </tr>\n",
       "    <tr>\n",
       "      <th>15</th>\n",
       "      <td>8</td>\n",
       "      <td>2020</td>\n",
       "      <td>2.412712e+05</td>\n",
       "    </tr>\n",
       "    <tr>\n",
       "      <th>16</th>\n",
       "      <td>8</td>\n",
       "      <td>2021</td>\n",
       "      <td>5.438229e+05</td>\n",
       "    </tr>\n",
       "    <tr>\n",
       "      <th>17</th>\n",
       "      <td>8</td>\n",
       "      <td>2022</td>\n",
       "      <td>3.066329e+05</td>\n",
       "    </tr>\n",
       "  </tbody>\n",
       "</table>\n",
       "</div>"
      ],
      "text/plain": [
       "    Bodega Asignada   Año      Cantidad\n",
       "0                 1  2017  7.052968e+04\n",
       "1                 1  2018  1.117268e+05\n",
       "2                 1  2019  1.201880e+05\n",
       "3                 1  2020  1.541155e+05\n",
       "4                 1  2021  2.952299e+05\n",
       "5                 1  2022  1.571276e+05\n",
       "6                 4  2017  1.658810e+05\n",
       "7                 4  2018  2.428851e+05\n",
       "8                 4  2019  3.156269e+05\n",
       "9                 4  2020  3.546894e+05\n",
       "10                4  2021  1.293908e+06\n",
       "11                4  2022  1.123494e+06\n",
       "12                8  2017  1.281406e+05\n",
       "13                8  2018  1.644386e+05\n",
       "14                8  2019  2.151663e+05\n",
       "15                8  2020  2.412712e+05\n",
       "16                8  2021  5.438229e+05\n",
       "17                8  2022  3.066329e+05"
      ]
     },
     "execution_count": 32,
     "metadata": {},
     "output_type": "execute_result"
    }
   ],
   "source": [
    "resultado_1"
   ]
  },
  {
   "cell_type": "code",
   "execution_count": 60,
   "metadata": {},
   "outputs": [
    {
     "data": {
      "text/html": [
       "<div>\n",
       "<style scoped>\n",
       "    .dataframe tbody tr th:only-of-type {\n",
       "        vertical-align: middle;\n",
       "    }\n",
       "\n",
       "    .dataframe tbody tr th {\n",
       "        vertical-align: top;\n",
       "    }\n",
       "\n",
       "    .dataframe thead th {\n",
       "        text-align: right;\n",
       "    }\n",
       "</style>\n",
       "<table border=\"1\" class=\"dataframe\">\n",
       "  <thead>\n",
       "    <tr style=\"text-align: right;\">\n",
       "      <th></th>\n",
       "      <th>Bodega Asignada</th>\n",
       "      <th>Cantidad</th>\n",
       "      <th>Año</th>\n",
       "    </tr>\n",
       "  </thead>\n",
       "  <tbody>\n",
       "    <tr>\n",
       "      <th>0</th>\n",
       "      <td>1</td>\n",
       "      <td>151486.251951</td>\n",
       "      <td>Promedio Histórico</td>\n",
       "    </tr>\n",
       "    <tr>\n",
       "      <th>1</th>\n",
       "      <td>4</td>\n",
       "      <td>582747.428034</td>\n",
       "      <td>Promedio Histórico</td>\n",
       "    </tr>\n",
       "    <tr>\n",
       "      <th>2</th>\n",
       "      <td>8</td>\n",
       "      <td>266578.749976</td>\n",
       "      <td>Promedio Histórico</td>\n",
       "    </tr>\n",
       "  </tbody>\n",
       "</table>\n",
       "</div>"
      ],
      "text/plain": [
       "   Bodega Asignada       Cantidad                 Año\n",
       "0                1  151486.251951  Promedio Histórico\n",
       "1                4  582747.428034  Promedio Histórico\n",
       "2                8  266578.749976  Promedio Histórico"
      ]
     },
     "execution_count": 60,
     "metadata": {},
     "output_type": "execute_result"
    }
   ],
   "source": [
    "#Agrupamos todos los años y sacamos promedio anual\n",
    "resultado_1b = resultado_1.groupby('Bodega Asignada')['Cantidad'].mean().reset_index()\n",
    "resultado_1b[\"Año\"] = \"Promedio Histórico\"\n",
    "resultado_1b"
   ]
  },
  {
   "cell_type": "code",
   "execution_count": 44,
   "metadata": {},
   "outputs": [
    {
     "data": {
      "text/html": [
       "<div>\n",
       "<style scoped>\n",
       "    .dataframe tbody tr th:only-of-type {\n",
       "        vertical-align: middle;\n",
       "    }\n",
       "\n",
       "    .dataframe tbody tr th {\n",
       "        vertical-align: top;\n",
       "    }\n",
       "\n",
       "    .dataframe thead th {\n",
       "        text-align: right;\n",
       "    }\n",
       "</style>\n",
       "<table border=\"1\" class=\"dataframe\">\n",
       "  <thead>\n",
       "    <tr style=\"text-align: right;\">\n",
       "      <th></th>\n",
       "      <th>Bodega Asignada</th>\n",
       "      <th>Cantidad</th>\n",
       "      <th>Año</th>\n",
       "    </tr>\n",
       "  </thead>\n",
       "  <tbody>\n",
       "    <tr>\n",
       "      <th>0</th>\n",
       "      <td>1</td>\n",
       "      <td>4.676866e+05</td>\n",
       "      <td>Proyección</td>\n",
       "    </tr>\n",
       "    <tr>\n",
       "      <th>1</th>\n",
       "      <td>4</td>\n",
       "      <td>3.136619e+06</td>\n",
       "      <td>Proyección</td>\n",
       "    </tr>\n",
       "    <tr>\n",
       "      <th>2</th>\n",
       "      <td>8</td>\n",
       "      <td>1.058310e+06</td>\n",
       "      <td>Proyección</td>\n",
       "    </tr>\n",
       "  </tbody>\n",
       "</table>\n",
       "</div>"
      ],
      "text/plain": [
       "   Bodega Asignada      Cantidad         Año\n",
       "0                1  4.676866e+05  Proyección\n",
       "1                4  3.136619e+06  Proyección\n",
       "2                8  1.058310e+06  Proyección"
      ]
     },
     "execution_count": 44,
     "metadata": {},
     "output_type": "execute_result"
    }
   ],
   "source": [
    "resultado_2[\"Año\"] = \"Proyección\"\n",
    "resultado_2\n"
   ]
  },
  {
   "cell_type": "code",
   "execution_count": 57,
   "metadata": {},
   "outputs": [
    {
     "data": {
      "image/png": "[encoded data removed]",
      "text/plain": [
       "<Figure size 1000x600 with 1 Axes>"
      ]
     },
     "metadata": {},
     "output_type": "display_data"
    }
   ],
   "source": [
    "combined_df = pd.concat([resultado_1, resultado_1b, resultado_2])\n",
    "\n",
    "pivot_df = combined_df.pivot(index='Año', columns='Bodega Asignada', values='Cantidad')\n",
    "pivot_df.plot(kind='bar', figsize=(10, 6))\n",
    "plt.title('Cantidad de demanda asignada por bodega')\n",
    "plt.xlabel('Año')\n",
    "plt.ylabel('Cantidad')\n",
    "plt.legend(title='Bodega Asignada')\n",
    "plt.show()\n"
   ]
  },
  {
   "cell_type": "code",
   "execution_count": 63,
   "metadata": {},
   "outputs": [
    {
     "name": "stdout",
     "output_type": "stream",
     "text": [
      "   Bodega Asignada  Proyeccion_2032\n",
      "0                1     5.148529e+05\n",
      "1                4     3.432818e+06\n",
      "2                8     1.001121e+06\n"
     ]
    },
    {
     "name": "stderr",
     "output_type": "stream",
     "text": [
      "c:\\Users\\Diego\\AppData\\Local\\Programs\\Python\\Python311\\Lib\\site-packages\\sklearn\\base.py:464: UserWarning: X does not have valid feature names, but LinearRegression was fitted with feature names\n",
      "  warnings.warn(\n",
      "c:\\Users\\Diego\\AppData\\Local\\Programs\\Python\\Python311\\Lib\\site-packages\\sklearn\\base.py:464: UserWarning: X does not have valid feature names, but LinearRegression was fitted with feature names\n",
      "  warnings.warn(\n",
      "c:\\Users\\Diego\\AppData\\Local\\Programs\\Python\\Python311\\Lib\\site-packages\\sklearn\\base.py:464: UserWarning: X does not have valid feature names, but LinearRegression was fitted with feature names\n",
      "  warnings.warn(\n"
     ]
    }
   ],
   "source": [
    "#Código construído ocupando ChatGPT\n",
    "\n",
    "from sklearn.linear_model import LinearRegression\n",
    "\n",
    "# Crear un DataFrame con los datos\n",
    "\n",
    "df = resultado_1\n",
    "\n",
    "# Obtener las bodegas únicas\n",
    "bodegas = df['Bodega Asignada'].unique()\n",
    "\n",
    "# Crear un modelo de regresión lineal por bodega\n",
    "proyecciones = []\n",
    "\n",
    "for bodega in bodegas:\n",
    "    df_bodega = df[df['Bodega Asignada'] == bodega]\n",
    "    model = LinearRegression()\n",
    "    X = df_bodega[['Año']]\n",
    "    y = df_bodega['Cantidad']\n",
    "    model.fit(X, y)\n",
    "    \n",
    "    # Predecir la cantidad para el año 2032\n",
    "    year_2032 = 2032\n",
    "    predicted_value = model.predict([[year_2032]])\n",
    "    \n",
    "    proyecciones.append({'Bodega Asignada': bodega, 'Proyeccion_2032': predicted_value[0]})\n",
    "\n",
    "# Crear un DataFrame con las proyecciones\n",
    "df_proyecciones = pd.DataFrame(proyecciones)\n",
    "\n",
    "print(df_proyecciones)\n",
    "\n"
   ]
  }
 ],
 "metadata": {
  "kernelspec": {
   "display_name": "Python 3",
   "language": "python",
   "name": "python3"
  },
  "language_info": {
   "codemirror_mode": {
    "name": "ipython",
    "version": 3
   },
   "file_extension": ".py",
   "mimetype": "text/x-python",
   "name": "python",
   "nbconvert_exporter": "python",
   "pygments_lexer": "ipython3",
   "version": "3.11.3"
  },
  "orig_nbformat": 4
 },
 "nbformat": 4,
 "nbformat_minor": 2
}
