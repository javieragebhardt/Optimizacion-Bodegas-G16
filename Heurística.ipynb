{
 "cells": [
  {
   "cell_type": "markdown",
   "metadata": {},
   "source": [
    "# Heurística de consolidación"
   ]
  },
  {
   "cell_type": "markdown",
   "metadata": {},
   "source": [
    "**Consideraciones**\n",
    "- Cada camión límite de 8H\n",
    "- Cada camión límite de 10T (10.000 kilos o cantidad)\n",
    "- Atender a clientes premium primero, dps los otros pq tengo más tiempo\n",
    "- Considerar que los camioneros paran??"
   ]
  },
  {
   "cell_type": "markdown",
   "metadata": {},
   "source": [
    "Esto es diferente porque necesitamos las fechas de las ventas, pero se parece al trabajo de BDD de construccion_datos"
   ]
  },
  {
   "cell_type": "code",
   "execution_count": 1,
   "metadata": {},
   "outputs": [],
   "source": [
    "import pandas as pd\n",
    "import numpy as np\n",
    "import construccion_datos\n",
    "from modelo_V_consolidacion import LocalizacionOptima\n",
    "import construccion_datos\n",
    "\n",
    "# Importación base de datos\n",
    "bdd_categoria = \"BDD_Bodegas_Categorizada.xlsx\"\n",
    "bdd_ventas = pd.read_excel(bdd_categoria)\n",
    "bdd_bodegas = pd.read_excel(\"BDD_Bodegas.xlsx\", sheet_name=2)\n",
    "bdd_comunas = pd.read_excel(\"BDD_Bodegas.xlsx\", sheet_name=3)\n",
    "bdd_comuna_bodega = pd.read_excel(\"distancias_comunas_bodegas.xlsx\")\n",
    "\n",
    "# Pasamos la columna de fechas a formato de fechas\n",
    "bdd_ventas['Fecha'] = pd.to_datetime(bdd_ventas['Fecha'])\n",
    "\n",
    "# Agrupación de ventas por cliente y completar comuna\n",
    "bdd_ventas_2 = bdd_ventas.merge(bdd_comunas, left_on='Comuna Despacho', right_on='Comuna')\n",
    "bdd_ventas_2['Cantidad'] = bdd_ventas_2['Cantidad'].apply(lambda x: 0.01 if x == 0 else x)\n",
    "bdd_ventas_2['Nuevo_ID'] = range(len(bdd_ventas_2))\n",
    "\n",
    "\n",
    "dict_bodegas = bdd_bodegas.set_index('ID Bodega')[['LAT', 'LONG']].to_dict(orient='index') \n",
    "dict_ventas = bdd_ventas_2.set_index('Nuevo_ID')[['ID Cliente', 'Cantidad', 'Comuna Despacho', 'LAT', 'LON', 'ID Bodega Despacho', 'Categoria', 'Fecha']].to_dict(orient='index') "
   ]
  },
  {
   "cell_type": "code",
   "execution_count": 2,
   "metadata": {},
   "outputs": [],
   "source": [
    "#dict_ventas = construccion_datos.dict_ventas #Necesito la fecha!\n",
    "dict_bodegas = construccion_datos.dict_bodegas\n",
    "bdd_ventas_agrupadas = construccion_datos.bdd_ventas_agrupadas"
   ]
  },
  {
   "cell_type": "code",
   "execution_count": 3,
   "metadata": {},
   "outputs": [],
   "source": [
    "# Para esto ocupamos el dict ventas agrupadas, para tener solo los clientes y las distancias entre ellos\n",
    "dict_ventas_agrupadas = bdd_ventas_agrupadas.set_index('ID Cliente')[['Cantidad', 'Comuna Despacho', 'LAT', 'LON', 'ID Bodega Despacho', 'Categoria']].to_dict(orient='index') "
   ]
  },
  {
   "cell_type": "markdown",
   "metadata": {},
   "source": [
    "Necesito las distancias Manhattan entre clientes. Además incluyo clientes que tenían demanda acumulada 0"
   ]
  },
  {
   "cell_type": "code",
   "execution_count": 4,
   "metadata": {},
   "outputs": [],
   "source": [
    "#Necesito d_Manhattan cliente-cliente preprocesado\n",
    "dict_ventas_b = dict_ventas_agrupadas.copy()\n",
    "radio_tierra = 6371000  # metros\n",
    "d_Manhattan_entre_clientes = dict() # Distancias Manhattan\n",
    "\n",
    "for i in dict_ventas_b.keys():\n",
    "    d_Manhattan_entre_clientes[i] = dict()\n",
    "    # creamos una iteración sobre los id de bodegas\n",
    "    for j in dict_ventas_b.keys():\n",
    "        # Sacamos la diferencia y hacemos la conversión a metros\n",
    "        lat_diff = abs(dict_ventas_b[j]['LAT'] - dict_ventas_b[i]['LAT']) * (np.pi / 180) * radio_tierra\n",
    "        lon_diff = abs(dict_ventas_b[j]['LON'] - dict_ventas_b[i]['LON']) * (np.pi / 180) * radio_tierra * np.cos((dict_ventas_b[j]['LAT'] + dict_ventas_b[i]['LAT']) * 0.5 * (np.pi / 180)) \n",
    "        if round((lat_diff + lon_diff)/1000, 2) > 0:\n",
    "            d_Manhattan_entre_clientes[i][j] = round((lat_diff + lon_diff)/1000, 2)  # Distancia Manhattan en kilometros, redondeado al segundo decimal\n",
    "        elif round((lat_diff + lon_diff)/1000, 2) == 0:\n",
    "            d_Manhattan_entre_clientes[i][j] = 0.01"
   ]
  },
  {
   "cell_type": "code",
   "execution_count": 5,
   "metadata": {},
   "outputs": [],
   "source": [
    "#Necesito d_Manhattan cliente-bodega\n",
    "d_Manhattan_bodega_cliente = construccion_datos.d_Manhattan"
   ]
  },
  {
   "cell_type": "markdown",
   "metadata": {},
   "source": [
    "Corro modelo de optimización (se pueden cambiar los parámetros)"
   ]
  },
  {
   "cell_type": "code",
   "execution_count": 22,
   "metadata": {},
   "outputs": [
    {
     "name": "stdout",
     "output_type": "stream",
     "text": [
      "Gurobi Optimizer version 10.0.1 build v10.0.1rc0 (win64)\n",
      "\n",
      "CPU model: Intel(R) Core(TM) i5-8265U CPU @ 1.60GHz, instruction set [SSE2|AVX|AVX2]\n",
      "Thread count: 4 physical cores, 8 logical processors, using up to 8 threads\n",
      "\n",
      "Optimize a model with 31384 rows, 28540 columns and 85600 nonzeros\n",
      "Model fingerprint: 0xea46b597\n",
      "Variable types: 28530 continuous, 10 integer (10 binary)\n",
      "Coefficient statistics:\n",
      "  Matrix range     [1e+00, 1e+00]\n",
      "  Objective range  [1e-02, 2e+03]\n",
      "  Bounds range     [1e+00, 1e+00]\n",
      "  RHS range        [1e+00, 1e+01]\n",
      "Presolve removed 31384 rows and 28540 columns\n",
      "Presolve time: 0.05s\n",
      "Presolve: All rows and columns removed\n",
      "\n",
      "Explored 0 nodes (0 simplex iterations) in 0.07 seconds (0.03 work units)\n",
      "Thread count was 1 (of 8 available processors)\n",
      "\n",
      "Solution count 1: 116401 \n",
      "\n",
      "Optimal solution found (tolerance 1.00e-04)\n",
      "Best objective 1.164005100000e+05, best bound 1.164005100000e+05, gap 0.0000%\n"
     ]
    }
   ],
   "source": [
    "def solucion_p_median(p):\n",
    "    # Crear una instancia de LocalizacionOptima\n",
    "    modelo = LocalizacionOptima(p, construccion_datos.d_Manhattan)\n",
    "\n",
    "    # Llamar al método que resuelve el modelo\n",
    "    modelo.resolver()\n",
    "\n",
    "    # Recuperar el diccionario solución\n",
    "    diccionario_solucion = modelo.resultados\n",
    "\n",
    "    return diccionario_solucion\n",
    "\n",
    "diccionario_solucion = solucion_p_median(10)"
   ]
  },
  {
   "cell_type": "markdown",
   "metadata": {},
   "source": [
    "## Heurística"
   ]
  },
  {
   "cell_type": "markdown",
   "metadata": {},
   "source": [
    "Hacemos diccionario que tiene fecha y la info de los clientes de esa fecha"
   ]
  },
  {
   "cell_type": "code",
   "execution_count": 23,
   "metadata": {},
   "outputs": [],
   "source": [
    "# Clientes por fecha\n",
    "# Supongamos que 'diccionario' es tu diccionario con 66,000 filas\n",
    "\n",
    "clientes_por_fecha_2 = {}\n",
    "\n",
    "for cliente_id, cliente_info in dict_ventas.items():\n",
    "    fecha = cliente_info['Fecha']\n",
    "    \n",
    "    # Si la fecha ya está en el diccionario, agregamos el cliente a la lista existente\n",
    "    if fecha in clientes_por_fecha_2:\n",
    "        clientes_por_fecha_2[fecha].append(cliente_info)\n",
    "    else:\n",
    "        # Si la fecha no está en el diccionario, creamos una nueva lista con este cliente\n",
    "        clientes_por_fecha_2[fecha] = [cliente_info]"
   ]
  },
  {
   "cell_type": "markdown",
   "metadata": {},
   "source": [
    "Calculamos el valor objetivo de la solución previa sin consolidación"
   ]
  },
  {
   "cell_type": "code",
   "execution_count": 24,
   "metadata": {},
   "outputs": [],
   "source": [
    "def calcular_valor_objetivo_previo(diccionario_solucion, clientes_por_fecha_2, ida_o_vuelta):\n",
    "    valor_objetivo_previo = 0\n",
    "\n",
    "    if ida_o_vuelta == \"ida\":\n",
    "        for fecha in clientes_por_fecha_2:\n",
    "            for cliente in clientes_por_fecha_2[fecha]:\n",
    "                valor_objetivo_previo += diccionario_solucion[cliente[\"ID Cliente\"]][\"Tiempo\"] \n",
    "\n",
    "    elif ida_o_vuelta == \"vuelta\":\n",
    "        for fecha in clientes_por_fecha_2:\n",
    "            for cliente in clientes_por_fecha_2[fecha]:\n",
    "                valor_objetivo_previo += diccionario_solucion[cliente[\"ID Cliente\"]][\"Tiempo\"]*2\n",
    "    \n",
    "    return valor_objetivo_previo"
   ]
  },
  {
   "cell_type": "code",
   "execution_count": 25,
   "metadata": {},
   "outputs": [
    {
     "name": "stdout",
     "output_type": "stream",
     "text": [
      "Gurobi Optimizer version 10.0.1 build v10.0.1rc0 (win64)\n",
      "\n",
      "CPU model: Intel(R) Core(TM) i5-8265U CPU @ 1.60GHz, instruction set [SSE2|AVX|AVX2]\n",
      "Thread count: 4 physical cores, 8 logical processors, using up to 8 threads\n",
      "\n",
      "Optimize a model with 31384 rows, 28540 columns and 85600 nonzeros\n",
      "Model fingerprint: 0xea46b597\n",
      "Variable types: 28530 continuous, 10 integer (10 binary)\n",
      "Coefficient statistics:\n",
      "  Matrix range     [1e+00, 1e+00]\n",
      "  Objective range  [1e-02, 2e+03]\n",
      "  Bounds range     [1e+00, 1e+00]\n",
      "  RHS range        [1e+00, 1e+01]\n",
      "Presolve removed 31384 rows and 28540 columns\n",
      "Presolve time: 0.04s\n",
      "Presolve: All rows and columns removed\n",
      "\n",
      "Explored 0 nodes (0 simplex iterations) in 0.05 seconds (0.03 work units)\n",
      "Thread count was 1 (of 8 available processors)\n",
      "\n",
      "Solution count 1: 116401 \n",
      "\n",
      "Optimal solution found (tolerance 1.00e-04)\n",
      "Best objective 1.164005100000e+05, best bound 1.164005100000e+05, gap 0.0000%\n"
     ]
    },
    {
     "data": {
      "text/plain": [
       "119818.46133336831"
      ]
     },
     "execution_count": 25,
     "metadata": {},
     "output_type": "execute_result"
    }
   ],
   "source": [
    "calcular_valor_objetivo_previo(solucion_p_median(10), clientes_por_fecha_2, \"vuelta\")"
   ]
  },
  {
   "cell_type": "markdown",
   "metadata": {},
   "source": [
    "Definimos los parámetros de la consolidación"
   ]
  },
  {
   "cell_type": "code",
   "execution_count": 26,
   "metadata": {},
   "outputs": [],
   "source": [
    "# Es muy greedy, se puede mejorar\n",
    "\n",
    "velocidad = 45\n",
    "capacidad_maxima = 10000\n",
    "tiempo_maximo = 8"
   ]
  },
  {
   "cell_type": "code",
   "execution_count": 27,
   "metadata": {},
   "outputs": [],
   "source": [
    "# Función para verificar si cliente cabe en camión\n",
    "def cabe_en_camion(camion, cliente):\n",
    "    tiempo_a_cliente = d_Manhattan_entre_clientes[camion[2][-1]][cliente[1]] / velocidad  #aca podriamos hacer un 3-opt\n",
    "    if camion[0] + cliente[0] <= capacidad_maxima and camion[1] + tiempo_a_cliente <= tiempo_maximo:\n",
    "        return (True, tiempo_a_cliente)\n",
    "    else:\n",
    "        return (False, tiempo_a_cliente)"
   ]
  },
  {
   "cell_type": "code",
   "execution_count": 28,
   "metadata": {},
   "outputs": [],
   "source": [
    "# Iteraciones\n",
    "clientes_por_fecha = dict(clientes_por_fecha_2)\n",
    "\n",
    "# La solución se guarda con diccionario por fecha\n",
    "solucion_consolidacion = dict() "
   ]
  },
  {
   "cell_type": "markdown",
   "metadata": {},
   "source": [
    "Hacemos consolidación\n",
    "- Revisa los clientes por fecha\n",
    "- Primero revisa premium, luego gold y finalmente silver\n",
    "- Por cada cliente, dentro de su categoria, revisa si cabe en un camion existente o crea uno nuevo (por capacidad y tiempo)"
   ]
  },
  {
   "cell_type": "code",
   "execution_count": 29,
   "metadata": {},
   "outputs": [],
   "source": [
    "def consolidacion(clientes_por_fecha, diccionario_solucion):\n",
    "\n",
    "    for fecha in clientes_por_fecha: \n",
    "        solucion_fecha = list()\n",
    "        for cliente in clientes_por_fecha[fecha]:\n",
    "            if cliente['Categoria'] == \"Premium\":\n",
    "                \n",
    "                # Si es que no es primer cliente\n",
    "                if len(solucion_fecha) != 0:\n",
    "                    cupo = False\n",
    "                    for indice, camion in enumerate(solucion_fecha):\n",
    "\n",
    "                        # Si cabe en algun camion, lo agrego\n",
    "                        cliente_iteracion = [cliente[\"Cantidad\"], cliente[\"ID Cliente\"]]\n",
    "                        cabe = cabe_en_camion(camion, cliente_iteracion)\n",
    "\n",
    "                        if cabe[0] and diccionario_solucion[cliente[\"ID Cliente\"]][\"Bodega Asignada\"] == camion[2][0]:\n",
    "                            solucion_fecha[indice][0] += cliente[\"Cantidad\"]\n",
    "                            solucion_fecha[indice][1] += cabe[1]\n",
    "                            solucion_fecha[indice][2].append(cliente[\"ID Cliente\"])\n",
    "                            cupo = True\n",
    "                            break\n",
    "                    \n",
    "                    if not cupo:\n",
    "                        tiempo = diccionario_solucion[cliente[\"ID Cliente\"]][\"Tiempo\"]\n",
    "                        solucion_fecha.append([cliente[\"Cantidad\"], tiempo, [diccionario_solucion[cliente[\"ID Cliente\"]][\"Bodega Asignada\"], cliente[\"ID Cliente\"]] ])\n",
    "                \n",
    "                # Si es que es primer cliente\n",
    "                else:\n",
    "                    # Creo camión ############\n",
    "                    tiempo = diccionario_solucion[cliente[\"ID Cliente\"]][\"Tiempo\"]\n",
    "                    solucion_fecha.append([cliente[\"Cantidad\"], tiempo, [diccionario_solucion[cliente[\"ID Cliente\"]][\"Bodega Asignada\"], cliente[\"ID Cliente\"]] ])\n",
    "        \n",
    "        for cliente in clientes_por_fecha[fecha]:\n",
    "            if cliente['Categoria'] == \"Gold\":\n",
    "                # Si es que no es primer cliente\n",
    "\n",
    "                if len(solucion_fecha) != 0:\n",
    "                    cupo = False\n",
    "                    for indice, camion in enumerate(solucion_fecha):\n",
    "\n",
    "                        # Si cabe en algun camion, lo agrego\n",
    "                        cliente_iteracion = [cliente[\"Cantidad\"], cliente[\"ID Cliente\"]]\n",
    "                        cabe = cabe_en_camion(camion, cliente_iteracion)\n",
    "\n",
    "                        if cabe[0] and diccionario_solucion[cliente[\"ID Cliente\"]][\"Bodega Asignada\"] == camion[2][0]:\n",
    "                            solucion_fecha[indice][0] += cliente[\"Cantidad\"]\n",
    "                            solucion_fecha[indice][1] += cabe[1]\n",
    "                            solucion_fecha[indice][2].append(cliente[\"ID Cliente\"])\n",
    "                            \n",
    "                            cupo = True\n",
    "                            break\n",
    "                    \n",
    "                    if not cupo:\n",
    "                        tiempo = diccionario_solucion[cliente[\"ID Cliente\"]][\"Tiempo\"]\n",
    "                        solucion_fecha.append([cliente[\"Cantidad\"], tiempo, [diccionario_solucion[cliente[\"ID Cliente\"]][\"Bodega Asignada\"], cliente[\"ID Cliente\"]] ])\n",
    "                \n",
    "                # Si es que es primer cliente\n",
    "                else:\n",
    "                    # Creo camión ############\n",
    "                    tiempo = diccionario_solucion[cliente[\"ID Cliente\"]][\"Tiempo\"]\n",
    "                    solucion_fecha.append([cliente[\"Cantidad\"], tiempo, [diccionario_solucion[cliente[\"ID Cliente\"]][\"Bodega Asignada\"], cliente[\"ID Cliente\"]] ])\n",
    "\n",
    "        for cliente in clientes_por_fecha[fecha]:\n",
    "            if cliente['Categoria'] == \"Silver\":\n",
    "\n",
    "                # Si es que no es primer cliente\n",
    "                if len(solucion_fecha) != 0:\n",
    "                    cupo = False\n",
    "                    for indice, camion in enumerate(solucion_fecha):\n",
    "\n",
    "                        # Si cabe en algun camion, lo agrego\n",
    "                        cliente_iteracion = [cliente[\"Cantidad\"], cliente[\"ID Cliente\"]]\n",
    "                        cabe = cabe_en_camion(camion, cliente_iteracion)\n",
    "\n",
    "                        if cabe[0] and diccionario_solucion[cliente[\"ID Cliente\"]][\"Bodega Asignada\"] == camion[2][0]:\n",
    "                            solucion_fecha[indice][0] +=  cliente[\"Cantidad\"]\n",
    "                            solucion_fecha[indice][1] += cabe[1]\n",
    "                            solucion_fecha[indice][2].append(cliente[\"ID Cliente\"])\n",
    "                            cupo = True\n",
    "                            break\n",
    "                    \n",
    "                    if not cupo:\n",
    "                        tiempo = diccionario_solucion[cliente[\"ID Cliente\"]][\"Tiempo\"]\n",
    "                        solucion_fecha.append([cliente[\"Cantidad\"], tiempo, [diccionario_solucion[cliente[\"ID Cliente\"]][\"Bodega Asignada\"], cliente[\"ID Cliente\"]] ])\n",
    "                \n",
    "                # Si es que es primer cliente\n",
    "                else:\n",
    "                    # Creo camión ############\n",
    "                    tiempo = diccionario_solucion[cliente[\"ID Cliente\"]][\"Tiempo\"]\n",
    "                    solucion_fecha.append([cliente[\"Cantidad\"], tiempo, [diccionario_solucion[cliente[\"ID Cliente\"]][\"Bodega Asignada\"], cliente[\"ID Cliente\"]] ])\n",
    "            \n",
    "        solucion_consolidacion[fecha] = solucion_fecha   \n",
    "\n",
    "    return solucion_consolidacion"
   ]
  },
  {
   "cell_type": "code",
   "execution_count": 17,
   "metadata": {},
   "outputs": [],
   "source": []
  },
  {
   "cell_type": "markdown",
   "metadata": {},
   "source": [
    "Calculo solución consolidación y comparación"
   ]
  },
  {
   "cell_type": "code",
   "execution_count": 34,
   "metadata": {},
   "outputs": [],
   "source": [
    "def calcular_valor_objetivo_consolidacion(solucion_consolidacion, ida_o_vuelta):\n",
    "    valor_objetivo_actual = 0\n",
    "\n",
    "    if ida_o_vuelta == \"ida\":\n",
    "        for fecha in solucion_consolidacion:\n",
    "            for camion in solucion_consolidacion[fecha]:\n",
    "                valor_objetivo_actual += camion[1]\n",
    "    \n",
    "    elif ida_o_vuelta == \"vuelta\":\n",
    "        for fecha in solucion_consolidacion:\n",
    "            for camion in solucion_consolidacion[fecha]:\n",
    "                valor_objetivo_actual += camion[1]\n",
    "                valor_objetivo_actual += d_Manhattan_bodega_cliente[camion[2][-1]][camion[2][0]] / velocidad # Sacar si solo ida\n",
    "\n",
    "    return valor_objetivo_actual"
   ]
  },
  {
   "cell_type": "code",
   "execution_count": 38,
   "metadata": {},
   "outputs": [
    {
     "name": "stdout",
     "output_type": "stream",
     "text": [
      "Gurobi Optimizer version 10.0.1 build v10.0.1rc0 (win64)\n",
      "\n",
      "CPU model: Intel(R) Core(TM) i5-8265U CPU @ 1.60GHz, instruction set [SSE2|AVX|AVX2]\n",
      "Thread count: 4 physical cores, 8 logical processors, using up to 8 threads\n",
      "\n",
      "Optimize a model with 31384 rows, 28540 columns and 85600 nonzeros\n",
      "Model fingerprint: 0xa56e59af\n",
      "Variable types: 28530 continuous, 10 integer (10 binary)\n",
      "Coefficient statistics:\n",
      "  Matrix range     [1e+00, 1e+00]\n",
      "  Objective range  [1e-02, 2e+03]\n",
      "  Bounds range     [1e+00, 1e+00]\n",
      "  RHS range        [1e+00, 3e+00]\n",
      "Presolve removed 29007 rows and 26370 columns\n",
      "Presolve time: 0.10s\n",
      "Presolved: 2377 rows, 2170 columns, 6490 nonzeros\n",
      "Variable types: 2160 continuous, 10 integer (10 binary)\n",
      "Found heuristic solution: objective 784113.74000\n",
      "\n",
      "Root relaxation: objective 3.474816e+05, 624 iterations, 0.02 seconds (0.02 work units)\n",
      "\n",
      "    Nodes    |    Current Node    |     Objective Bounds      |     Work\n",
      " Expl Unexpl |  Obj  Depth IntInf | Incumbent    BestBd   Gap | It/Node Time\n",
      "\n",
      "*    0     0               0    347481.63000 347481.630  0.00%     -    0s\n",
      "\n",
      "Explored 1 nodes (624 simplex iterations) in 0.17 seconds (0.10 work units)\n",
      "Thread count was 8 (of 8 available processors)\n",
      "\n",
      "Solution count 2: 347482 784114 \n",
      "\n",
      "Optimal solution found (tolerance 1.00e-04)\n",
      "Best objective 3.474816300000e+05, best bound 3.474816300000e+05, gap 0.0000%\n",
      "Gurobi Optimizer version 10.0.1 build v10.0.1rc0 (win64)\n",
      "\n",
      "CPU model: Intel(R) Core(TM) i5-8265U CPU @ 1.60GHz, instruction set [SSE2|AVX|AVX2]\n",
      "Thread count: 4 physical cores, 8 logical processors, using up to 8 threads\n",
      "\n",
      "Optimize a model with 31384 rows, 28540 columns and 85600 nonzeros\n",
      "Model fingerprint: 0x63a6c6be\n",
      "Variable types: 28530 continuous, 10 integer (10 binary)\n",
      "Coefficient statistics:\n",
      "  Matrix range     [1e+00, 1e+00]\n",
      "  Objective range  [1e-02, 2e+03]\n",
      "  Bounds range     [1e+00, 1e+00]\n",
      "  RHS range        [1e+00, 5e+00]\n",
      "Presolve removed 29007 rows and 26370 columns\n",
      "Presolve time: 0.08s\n",
      "Presolved: 2377 rows, 2170 columns, 6490 nonzeros\n",
      "Variable types: 2160 continuous, 10 integer (10 binary)\n",
      "Found heuristic solution: objective 536182.23000\n",
      "Found heuristic solution: objective 513978.62000\n",
      "\n",
      "Root relaxation: objective 2.187049e+05, 392 iterations, 0.01 seconds (0.01 work units)\n",
      "\n",
      "    Nodes    |    Current Node    |     Objective Bounds      |     Work\n",
      " Expl Unexpl |  Obj  Depth IntInf | Incumbent    BestBd   Gap | It/Node Time\n",
      "\n",
      "*    0     0               0    218704.94000 218704.940  0.00%     -    0s\n",
      "\n",
      "Explored 1 nodes (392 simplex iterations) in 0.13 seconds (0.09 work units)\n",
      "Thread count was 8 (of 8 available processors)\n",
      "\n",
      "Solution count 3: 218705 513979 536182 \n",
      "\n",
      "Optimal solution found (tolerance 1.00e-04)\n",
      "Best objective 2.187049400000e+05, best bound 2.187049400000e+05, gap 0.0000%\n",
      "Gurobi Optimizer version 10.0.1 build v10.0.1rc0 (win64)\n",
      "\n",
      "CPU model: Intel(R) Core(TM) i5-8265U CPU @ 1.60GHz, instruction set [SSE2|AVX|AVX2]\n",
      "Thread count: 4 physical cores, 8 logical processors, using up to 8 threads\n",
      "\n",
      "Optimize a model with 31384 rows, 28540 columns and 85600 nonzeros\n",
      "Model fingerprint: 0xea46b597\n",
      "Variable types: 28530 continuous, 10 integer (10 binary)\n",
      "Coefficient statistics:\n",
      "  Matrix range     [1e+00, 1e+00]\n",
      "  Objective range  [1e-02, 2e+03]\n",
      "  Bounds range     [1e+00, 1e+00]\n",
      "  RHS range        [1e+00, 1e+01]\n",
      "Presolve removed 31384 rows and 28540 columns\n",
      "Presolve time: 0.03s\n",
      "Presolve: All rows and columns removed\n",
      "\n",
      "Explored 0 nodes (0 simplex iterations) in 0.05 seconds (0.03 work units)\n",
      "Thread count was 1 (of 8 available processors)\n",
      "\n",
      "Solution count 1: 116401 \n",
      "\n",
      "Optimal solution found (tolerance 1.00e-04)\n",
      "Best objective 1.164005100000e+05, best bound 1.164005100000e+05, gap 0.0000%\n"
     ]
    }
   ],
   "source": [
    "consolidacion_vs_previo = dict()\n",
    "\n",
    "for cantidad_bodegas in [3,5,10]:\n",
    "    diccionario_solucion = solucion_p_median(cantidad_bodegas)\n",
    "    clientes_por_fecha = dict(clientes_por_fecha_2)\n",
    "    solucion_consolidacion = consolidacion(clientes_por_fecha, diccionario_solucion)\n",
    "\n",
    "    valor_objetivo_consolidacion_ida = calcular_valor_objetivo_consolidacion(solucion_consolidacion, \"ida\")\n",
    "    valor_objetivo_previo_ida = calcular_valor_objetivo_previo(diccionario_solucion, clientes_por_fecha_2, \"ida\")\n",
    "    valor_objetivo_consolidacion_vuelta = calcular_valor_objetivo_consolidacion(solucion_consolidacion, \"vuelta\")\n",
    "    valor_objetivo_previo_vuelta = calcular_valor_objetivo_previo(diccionario_solucion, clientes_por_fecha_2, \"vuelta\")\n",
    "\n",
    "    consolidacion_vs_previo[(cantidad_bodegas)] = [valor_objetivo_consolidacion_ida, valor_objetivo_previo_ida, valor_objetivo_consolidacion_vuelta, valor_objetivo_previo_vuelta]"
   ]
  },
  {
   "cell_type": "code",
   "execution_count": 41,
   "metadata": {},
   "outputs": [
    {
     "name": "stdout",
     "output_type": "stream",
     "text": [
      "Cantidad bodegas:  3\n",
      "Valor objetivo consolidacion ida:  116676.07711111104 Valor objetivo previo: 162497.17355555695 diferencia porcentual: -28.000000000000004\n",
      "Valor objetivo consolidacion vuelta:  183424.34288888043 Valor objetivo previo: 324994.3471111139 diferencia porcentual: -44.0\n",
      "\n",
      "\n",
      "Cantidad bodegas:  5\n",
      "Valor objetivo consolidacion ida:  82219.98755555536 Valor objetivo previo: 105761.99866669456 diferencia porcentual: -22.0\n",
      "Valor objetivo consolidacion vuelta:  116090.74066666799 Valor objetivo previo: 211523.99733338912 diferencia porcentual: -45.0\n",
      "\n",
      "\n",
      "Cantidad bodegas:  10\n",
      "Valor objetivo consolidacion ida:  54894.36688888896 Valor objetivo previo: 59909.230666684154 diferencia porcentual: -8.0\n",
      "Valor objetivo consolidacion vuelta:  74995.14222222334 Valor objetivo previo: 119818.46133336831 diferencia porcentual: -37.0\n",
      "\n",
      "\n"
     ]
    }
   ],
   "source": [
    "for valor in consolidacion_vs_previo:\n",
    "    print(\"Cantidad bodegas: \", valor)\n",
    "    print(\"Valor objetivo consolidacion ida: \", consolidacion_vs_previo[valor][0], \"Valor objetivo previo:\", consolidacion_vs_previo[valor][1], \"diferencia porcentual:\", 100*round((consolidacion_vs_previo[valor][0] - consolidacion_vs_previo[valor][1])/consolidacion_vs_previo[valor][1], 2))\n",
    "    print(\"Valor objetivo consolidacion vuelta: \", consolidacion_vs_previo[valor][2], \"Valor objetivo previo:\", consolidacion_vs_previo[valor][3], \"diferencia porcentual:\", 100*round((consolidacion_vs_previo[valor][2] - consolidacion_vs_previo[valor][3])/consolidacion_vs_previo[valor][3], 2))\n",
    "    print(\"\\n\")"
   ]
  },
  {
   "cell_type": "markdown",
   "metadata": {},
   "source": [
    "#### Comparar cantidad de camiones"
   ]
  },
  {
   "cell_type": "code",
   "execution_count": 45,
   "metadata": {},
   "outputs": [],
   "source": [
    "def calcular_camiones(solucion_consolidacion):\n",
    "    cantidad_camiones = 0\n",
    "\n",
    "    for fecha in solucion_consolidacion:\n",
    "        for camion in solucion_consolidacion[fecha]:\n",
    "            cantidad_camiones += 1\n",
    "    \n",
    "    return cantidad_camiones"
   ]
  },
  {
   "cell_type": "code",
   "execution_count": 46,
   "metadata": {},
   "outputs": [
    {
     "data": {
      "text/plain": [
       "16013"
      ]
     },
     "execution_count": 46,
     "metadata": {},
     "output_type": "execute_result"
    }
   ],
   "source": [
    "calcular_camiones(solucion_consolidacion)"
   ]
  },
  {
   "cell_type": "code",
   "execution_count": 47,
   "metadata": {},
   "outputs": [
    {
     "data": {
      "text/plain": [
       "65891"
      ]
     },
     "execution_count": 47,
     "metadata": {},
     "output_type": "execute_result"
    }
   ],
   "source": [
    "len(dict_ventas)"
   ]
  },
  {
   "cell_type": "code",
   "execution_count": null,
   "metadata": {},
   "outputs": [],
   "source": []
  }
 ],
 "metadata": {
  "kernelspec": {
   "display_name": "Python 3",
   "language": "python",
   "name": "python3"
  },
  "language_info": {
   "codemirror_mode": {
    "name": "ipython",
    "version": 3
   },
   "file_extension": ".py",
   "mimetype": "text/x-python",
   "name": "python",
   "nbconvert_exporter": "python",
   "pygments_lexer": "ipython3",
   "version": "3.11.3"
  },
  "orig_nbformat": 4
 },
 "nbformat": 4,
 "nbformat_minor": 2
}
