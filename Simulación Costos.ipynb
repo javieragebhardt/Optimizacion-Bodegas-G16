{
 "cells": [
  {
   "cell_type": "markdown",
   "metadata": {},
   "source": [
    "# **Cálculos Simulación**"
   ]
  },
  {
   "cell_type": "code",
   "execution_count": 1,
   "metadata": {},
   "outputs": [],
   "source": [
    "import pandas as pd\n",
    "import math\n",
    "import matplotlib.pyplot as plt\n",
    "import pandas as pd\n",
    "import numpy as np\n",
    "from scipy import stats\n",
    "from scipy.stats import gamma\n",
    "from scipy.stats import expon\n",
    "from scipy.stats import t\n",
    "from scipy.stats import norm\n",
    "pd.options.display.float_format = '{:.2f}'.format"
   ]
  },
  {
   "cell_type": "code",
   "execution_count": 2,
   "metadata": {},
   "outputs": [
    {
     "name": "stderr",
     "output_type": "stream",
     "text": [
      "c:\\Users\\alvar\\AppData\\Local\\Programs\\Python\\Python38\\lib\\site-packages\\scipy\\stats\\_continuous_distns.py:709: RuntimeWarning: invalid value encountered in sqrt\n",
      "  sk = 2*(b-a)*np.sqrt(a + b + 1) / (a + b + 2) / np.sqrt(a*b)\n"
     ]
    }
   ],
   "source": [
    "# Ventas categorizadas y asignación resultante\n",
    "bdd_ventas = pd.read_excel(\"BDD_Bodegas_Categorizada_proy.xlsx\")\n",
    "bdd_asignaciones = pd.read_excel(\"Resultados/Pre-Informe/datos_aloc_p_3_manhattan_proy.xlsx\")\n",
    "bdd_ventas['Fecha'] = pd.to_datetime(bdd_ventas['Fecha'])\n",
    "bdd_ventas['Semana'] = bdd_ventas['Fecha'].dt.strftime('%U')\n",
    "bdd_ventas['Año'] = bdd_ventas['Fecha'].dt.year\n",
    "bdd_ventas['Año-Sem'] = bdd_ventas['Año'].astype(str) + \"-\" + bdd_ventas['Semana'].astype(str)\n",
    "bdd_asignaciones = bdd_asignaciones.drop(columns=['Cantidad'])\n",
    "\n",
    "# Comunas\n",
    "bdd_comunas = pd.read_excel(\"BDD_Bodegas.xlsx\", sheet_name=3)\n",
    "\n",
    "# Agrupación de ventas por cliente \n",
    "bdd_ventas_agrupadas = bdd_ventas.groupby(['ID Cliente', 'Año-Sem']).agg({\"Cantidad\": \"sum\", 'Categoria': 'first'}).reset_index()\n",
    "bdd_ventas_agrupadas['Cantidad'] = bdd_ventas_agrupadas['Cantidad'].apply(lambda x: 0.01 if x == 0 else x)\n",
    "bdd_proyeccion = bdd_ventas_agrupadas.merge(bdd_asignaciones, right_on = \"Unnamed: 0\", left_on =\"ID Cliente\")\n",
    "\n",
    "## Resultados\n",
    "resultado_3 = bdd_proyeccion.groupby(['Bodega Asignada', 'Año-Sem'])['Cantidad'].sum().reset_index()\n",
    "resultado_3[\"Semana\"] = resultado_3[\"Año-Sem\"].str.split(\"-\").str[1]\n",
    "resultado_3[\"Año\"] = resultado_3[\"Año-Sem\"].str.split(\"-\").str[0]\n",
    "\n",
    "# Resultados por bodega\n",
    "bodegas = {1: resultado_3[resultado_3[\"Bodega Asignada\"]==1], 4: resultado_3[resultado_3[\"Bodega Asignada\"]==4], 8: resultado_3[resultado_3[\"Bodega Asignada\"]==8]}\n",
    "\n",
    "# Filtramos los años de proyección\n",
    "resultado_3 = resultado_3[resultado_3[\"Año\"] > \"2030\"]\n",
    "\n",
    "# Hacemos 3 dataframes, uno por bodega\n",
    "bod_1 = resultado_3[resultado_3[\"Bodega Asignada\"] == 1]\n",
    "bod_4 = resultado_3[resultado_3[\"Bodega Asignada\"] == 4]\n",
    "bod_8 = resultado_3[resultado_3[\"Bodega Asignada\"] == 8]\n",
    "\n",
    "# Definimos una función para simplificar el filtrado por semana\n",
    "def filtrar_semana(df, semanas_alto, semanas_promedio):\n",
    "    df_alto = df[df[\"Semana\"].astype(int).isin(semanas_alto)]\n",
    "    df_promedio = df[df[\"Semana\"].astype(int).isin(semanas_promedio)]\n",
    "    return df_alto, df_promedio\n",
    "\n",
    "# Definimos las semanas altas y promedio para cada bodega\n",
    "semanas_alto_bod_1 = [1, 2, 3, 4, 15, 16, 17, 18, 19, 20, 21, 22, 23, 42, 43, 44, 45, 46, 47, 48, 49, 50]\n",
    "semanas_promedio_bod_1 = [5, 6, 7, 8, 9, 10, 11, 12, 13, 14, 24, 25, 26, 27, 28, 29, 30, 31, 32, 33, 34, 35, 36, 37, 38, 39, 40, 41, 51, 52]\n",
    "\n",
    "semanas_alto_bod_4 = [1, 2, 3, 4, 14, 15, 16, 17, 18, 25, 26, 27, 28, 29, 30, 31, 32, 33, 34, 35, 42, 43]\n",
    "semanas_promedio_bod_4 = [5, 6, 7, 8, 9, 10, 11, 12, 13, 19, 20, 21, 22, 23, 24, 36, 37, 38, 39, 40, 41, 44, 45, 46, 47, 48, 49, 50, 51, 52]\n",
    "\n",
    "semanas_alto_bod_8 = [12, 13, 14, 15, 16, 17, 18, 19, 20, 21, 31, 32, 33, 34, 35, 36, 37, 38, 39, 40, 41, 42, 43, 44, 45, 46]\n",
    "semanas_promedio_bod_8 = [1, 2, 3, 4, 5, 6, 7, 8, 9, 10, 11, 22, 23, 24, 25, 26, 27, 28, 29, 30, 47, 48, 49, 50, 51, 52]\n",
    "\n",
    "lista_semanas = [semanas_alto_bod_1, semanas_promedio_bod_1, semanas_alto_bod_4, semanas_promedio_bod_4, semanas_alto_bod_8, semanas_promedio_bod_8]\n",
    "\n",
    "# Aplicamos la función de filtrado por semana a cada bodega\n",
    "bod_1_alto, bod_1_prom = filtrar_semana(bod_1, semanas_alto_bod_1, semanas_promedio_bod_1)\n",
    "bod_4_alto, bod_4_prom = filtrar_semana(bod_4, semanas_alto_bod_4, semanas_promedio_bod_4)\n",
    "bod_8_alto, bod_8_prom = filtrar_semana(bod_8, semanas_alto_bod_8, semanas_promedio_bod_8)\n",
    "\n",
    "lista_bdd = [bod_1_alto, bod_1_prom, bod_4_alto, bod_4_prom, bod_8_alto, bod_8_prom]\n",
    "nombres_bdd = [\"bod_1_alto\", \"bod_1_prom\", \"bod_4_alto\", \"bod_4_prom\", \"bod_8_alto\", \"bod_8_prom\"]\n",
    "\n",
    "mejores_distribuciones = []\n",
    "\n",
    "for i, b in enumerate(lista_bdd):\n",
    "    \n",
    "    nombre = nombres_bdd[i]\n",
    "    \n",
    "    # Ordeno por cantidad la base de datos\n",
    "    b = b.sort_values(by=['Cantidad'], ascending=True)\n",
    "    demanda = b['Cantidad']\n",
    "\n",
    "    # Lista de distribuciones a ajustar\n",
    "    distribuciones = [stats.norm, stats.expon, stats.geom, stats.t, stats.lognorm, stats.chi2, stats.beta, stats.gamma, stats.pareto]\n",
    "\n",
    "    # Inicializamos valores\n",
    "    mejor_distribucion = None\n",
    "    mejor_params = ()\n",
    "    mejor_kstest = float('inf')\n",
    "\n",
    "    # Iteramos para las distintas distribuciones\n",
    "    for distribucion in distribuciones:\n",
    "        if distribucion == stats.geom:\n",
    "            # Estimación para la distribución geométrica (funciona distinto a las demás)\n",
    "            p_geom = 1 - np.mean(demanda)\n",
    "            params = (p_geom,)\n",
    "        else:\n",
    "            # Estimación de los parámetros \n",
    "            params = distribucion.fit(demanda)\n",
    "        \n",
    "        ks_statistic, ks_p_value = stats.kstest(demanda, distribucion.name, params)\n",
    "        \n",
    "        # Compara el estadístico KS con el mejor encontrado hasta ahora\n",
    "        if ks_statistic < mejor_kstest:\n",
    "            mejor_distribucion = distribucion\n",
    "            mejor_params = params\n",
    "            mejor_kstest = ks_statistic\n",
    "\n",
    "    # Actualizar lista de mejores distribuciones\n",
    "    mejores_distribuciones.append([nombre, mejor_distribucion.name, mejor_params])\n",
    "    \n",
    "def dist_gamma(a, b, c, n):\n",
    "    # Parámetros de la distribución gamma\n",
    "    a, loc, scale = a,b,c\n",
    "\n",
    "    # Generar 1000 muestras de la distribución gamma\n",
    "    muestras = gamma.rvs(a, loc=loc, scale=scale, size=n)\n",
    "\n",
    "    return muestras\n",
    "\n",
    "\n",
    "def dist_expon(a,b, n):\n",
    "\n",
    "    # Parámetros de la distribución exponencial\n",
    "    loc, scale = a, b\n",
    "\n",
    "    # Generar 1000 muestras de la distribución exponencial\n",
    "    muestras = expon.rvs(loc=loc, scale=scale, size=n)\n",
    "\n",
    "    return muestras\n",
    "\n",
    "def dist_t(a,b,c, n):\n",
    "    # Parámetros de la distribución t de Student\n",
    "    df, loc, scale = a, b, c\n",
    "\n",
    "    # Generar 1000 muestras de la distribución t de Student\n",
    "    muestras = t.rvs(df, loc=loc, scale=scale, size=n)\n",
    "\n",
    "    return muestras\n",
    "\n",
    "def dist_norm(a,b, n):\n",
    "    # Parámetros de la distribución normal\n",
    "    loc, scale = a, b\n",
    "\n",
    "    # Generar 1000 muestras de la distribución normal\n",
    "    muestras = norm.rvs(loc=loc, scale=scale, size=n)\n",
    "\n",
    "    return muestras\n",
    "\n",
    "# Ahora código de simulación para cada bodega, considerando un número proporcional de semanas según se cantidad\n",
    "\n",
    "def crear_demanda():\n",
    "\n",
    "    dataframes = []\n",
    "\n",
    "    # Simulamos para cada bodega\n",
    "    for i, bdd in enumerate(lista_bdd):\n",
    "        nombre = nombres_bdd[i]\n",
    "        distribucion = mejores_distribuciones[i][1]\n",
    "        parametros = mejores_distribuciones[i][2]\n",
    "        cant_simulaciones = int(len(lista_semanas[i]))\n",
    "        if distribucion == \"gamma\":\n",
    "            dataframes.append(dist_gamma(parametros[0], parametros[1], parametros[2], cant_simulaciones))\n",
    "        elif distribucion == \"expon\":\n",
    "            dataframes.append(dist_expon(parametros[0], parametros[1], cant_simulaciones))\n",
    "        elif distribucion == \"t\":\n",
    "            dataframes.append(dist_t(parametros[0], parametros[1], parametros[2], cant_simulaciones))\n",
    "        elif distribucion == \"norm\":\n",
    "            dataframes.append(dist_norm(parametros[0], parametros[1], cant_simulaciones))\n",
    "\n",
    "    # Resultados para cada bodega\n",
    "    bod_1 = pd.concat([pd.DataFrame(dataframes[0]), pd.DataFrame(dataframes[1])])\n",
    "    bod_4 = pd.concat([pd.DataFrame(dataframes[2]), pd.DataFrame(dataframes[3])])\n",
    "    bod_8 = pd.concat([pd.DataFrame(dataframes[4]), pd.DataFrame(dataframes[5])])\n",
    "\n",
    "    # Creamos una columna de \"Bodega\" a cada df\n",
    "    bod_1[\"Bodega Asignada\"] = 1\n",
    "    bod_4[\"Bodega Asignada\"] = 4\n",
    "    bod_8[\"Bodega Asignada\"] = 8\n",
    "\n",
    "    # Creamos columna semana del 1 al 52\n",
    "    bod_1[\"Semana\"] = np.arange(1, 53)\n",
    "    bod_4[\"Semana\"] = np.arange(1, 53)\n",
    "    bod_8[\"Semana\"] = np.arange(1, 53)\n",
    "\n",
    "    # Cambiamos el nombre de la columna de la cantidad\n",
    "    bod_1_sim = bod_1.rename(columns={0: \"Cantidad\"})\n",
    "    bod_4_sim = bod_4.rename(columns={0: \"Cantidad\"})\n",
    "    bod_8_sim = bod_8.rename(columns={0: \"Cantidad\"})\n",
    "\n",
    "    # Juntamos todo\n",
    "    simulacion = pd.concat([bod_1_sim, bod_4_sim, bod_8_sim])\n",
    "    simulacion = simulacion.reset_index(drop=True)\n",
    "\n",
    "    orden = ['Bodega Asignada', 'Semana', 'Cantidad']  # Define el nuevo orden de las columnas\n",
    "\n",
    "    simulacion = simulacion[orden]\n",
    "\n",
    "    return simulacion"
   ]
  },
  {
   "cell_type": "code",
   "execution_count": 3,
   "metadata": {},
   "outputs": [],
   "source": [
    "def semanas_sobreocupacion(demanda, tamaños_bodegas, numero_bodega):\n",
    "    tamaño = tamaños_bodegas[numero_bodega]\n",
    "    bdd = demanda[demanda[\"Bodega Asignada\"] == numero_bodega]\n",
    "    camiones_a_pedir = 0\n",
    "    for i in range(len(bdd)):\n",
    "        camiones_a_pedir += math.ceil(bdd.iloc[i,2]/tamaño)\n",
    "    return camiones_a_pedir\n",
    "\n",
    "def calcular_costos(demanda, tamaños_bodegas, numero_bodega):\n",
    "    distancias = {1: 372.52, 4: 189.66, 8: 600.62}\n",
    "    tamaño = tamaños_bodegas[numero_bodega]\n",
    "    camiones = semanas_sobreocupacion(demanda, tamaños_bodegas, numero_bodega)\n",
    "    costo_fijo = 36700*tamaño/1000000\n",
    "    costo_tpte = 1200*distancias[numero_bodega]*camiones/1000000 \n",
    "    costo_total = costo_fijo + costo_tpte\n",
    "    return costo_fijo, costo_tpte, costo_total"
   ]
  },
  {
   "cell_type": "code",
   "execution_count": 4,
   "metadata": {},
   "outputs": [],
   "source": [
    "def simulación(n):\n",
    "    costos_tpte_1 = list()\n",
    "    costos_tpte_4 = list()\n",
    "    costos_tpte_8 = list()\n",
    "    costos_totales_1 = list()\n",
    "    costos_totales_4 = list()\n",
    "    costos_totales_8 = list()\n",
    "\n",
    "    for i in range(n):\n",
    "        df_bodegas = crear_demanda()\n",
    "\n",
    "        costos_bodega_1 = calcular_costos(df_bodegas, tamaños_bodegas, 1)\n",
    "        costos_tpte_1.append(costos_bodega_1[1])\n",
    "        costos_totales_1.append(costos_bodega_1[2])\n",
    "\n",
    "        costos_bodega_4 = calcular_costos(df_bodegas, tamaños_bodegas, 4)\n",
    "        costos_tpte_4.append(costos_bodega_4[1])\n",
    "        costos_totales_4.append(costos_bodega_4[2])\n",
    "        \n",
    "        costos_bodega_8 = calcular_costos(df_bodegas, tamaños_bodegas, 8)\n",
    "        costos_tpte_8.append(costos_bodega_8[1])\n",
    "        costos_totales_8.append(costos_bodega_8[2])\n",
    "\n",
    "    return costos_tpte_1, costos_totales_1, costos_tpte_4, costos_totales_4, costos_tpte_8, costos_totales_8"
   ]
  },
  {
   "cell_type": "code",
   "execution_count": 5,
   "metadata": {},
   "outputs": [],
   "source": [
    "def F(lista, n):\n",
    "    count = 0\n",
    "    for element in lista:\n",
    "        if element <= n:\n",
    "            count += 1\n",
    "    percentage = (count / len(lista)) * 100\n",
    "    return percentage"
   ]
  },
  {
   "cell_type": "code",
   "execution_count": 6,
   "metadata": {},
   "outputs": [],
   "source": [
    "tamaños_bodegas = {1: 1909.98, 4: 4660.66, 8: 4398.43}\n",
    "costos = simulación(10000)"
   ]
  },
  {
   "cell_type": "code",
   "execution_count": 7,
   "metadata": {},
   "outputs": [
    {
     "data": {
      "image/png": "[encoded data removed]",
      "text/plain": [
       "<Figure size 864x288 with 3 Axes>"
      ]
     },
     "metadata": {
      "needs_background": "light"
     },
     "output_type": "display_data"
    }
   ],
   "source": [
    "fig, axs = plt.subplots(1, 3, figsize=(12, 4)) \n",
    "\n",
    "# Bodega 1 - Costos Totales\n",
    "axs[0].hist(costos[1], bins=50)\n",
    "axs[0].axvline(x=159.95, color='red', linestyle='dashed')\n",
    "axs[0].set_xlabel('Costos Totales')\n",
    "axs[0].set_ylabel('Frecuencia')\n",
    "axs[0].set_title('Histograma de Costos Totales (Bodega 1)')\n",
    "\n",
    "# Bodega 4 - Costos Totales\n",
    "axs[1].hist(costos[3], bins=50, color='orange')\n",
    "axs[1].axvline(x=331.27, color='red', linestyle='dashed')\n",
    "axs[1].set_xlabel('Costos Totales')\n",
    "axs[1].set_ylabel('Frecuencia')\n",
    "axs[1].set_title('Histograma de Costos Totales (Bodega 4)')\n",
    "\n",
    "# Bodega 8 - Costos Totales\n",
    "axs[2].hist(costos[5], bins=50, color='green')\n",
    "axs[2].axvline(x=349.54, color='red', linestyle='dashed')\n",
    "axs[2].set_xlabel('Costos Totales')\n",
    "axs[2].set_ylabel('Frecuencia')\n",
    "axs[2].set_title('Histograma de Costos Totales (Bodega 8)')\n",
    "\n",
    "plt.tight_layout()\n",
    "plt.show()\n"
   ]
  },
  {
   "cell_type": "code",
   "execution_count": 35,
   "metadata": {},
   "outputs": [
    {
     "name": "stdout",
     "output_type": "stream",
     "text": [
      "95.22\n",
      "95.05\n",
      "95.23\n"
     ]
    }
   ],
   "source": [
    "print(F(costos[1], 171.2))\n",
    "print(F(costos[3], 348.0))\n",
    "print(F(costos[5], 363.3))"
   ]
  },
  {
   "cell_type": "code",
   "execution_count": 93,
   "metadata": {},
   "outputs": [],
   "source": [
    "tamaños_bodegas = {1: 1500, 4: 3900, 8: 3800}\n",
    "costos_disminuidos = simulación(10000)"
   ]
  },
  {
   "cell_type": "code",
   "execution_count": 94,
   "metadata": {},
   "outputs": [
    {
     "data": {
      "image/png": "[encoded data removed]",
      "text/plain": [
       "<Figure size 864x288 with 3 Axes>"
      ]
     },
     "metadata": {
      "needs_background": "light"
     },
     "output_type": "display_data"
    }
   ],
   "source": [
    "fig, axs = plt.subplots(1, 3, figsize=(12, 4)) \n",
    "\n",
    "# Bodega 1 - Costos Totales\n",
    "axs[0].hist(costos_disminuidos[1], bins=50)\n",
    "axs[0].axvline(x=159.95, color='red', linestyle='dashed')\n",
    "axs[0].set_xlabel('Costos Totales')\n",
    "axs[0].set_ylabel('Frecuencia')\n",
    "axs[0].set_title('Histograma de Costos Totales (Bodega 1)')\n",
    "\n",
    "# Bodega 4 - Costos Totales\n",
    "axs[1].hist(costos_disminuidos[3], bins=50, color='orange')\n",
    "axs[1].axvline(x=331.27, color='red', linestyle='dashed')\n",
    "axs[1].set_xlabel('Costos Totales')\n",
    "axs[1].set_ylabel('Frecuencia')\n",
    "axs[1].set_title('Histograma de Costos Totales (Bodega 4)')\n",
    "\n",
    "# Bodega 8 - Costos Totales\n",
    "axs[2].hist(costos_disminuidos[5], bins=50, color='green')\n",
    "axs[2].axvline(x=349.54, color='red', linestyle='dashed')\n",
    "axs[2].set_xlabel('Costos Totales')\n",
    "axs[2].set_ylabel('Frecuencia')\n",
    "axs[2].set_title('Histograma de Costos Totales (Bodega 8)')\n",
    "\n",
    "plt.tight_layout()\n",
    "plt.show()"
   ]
  },
  {
   "cell_type": "code",
   "execution_count": 117,
   "metadata": {},
   "outputs": [
    {
     "name": "stdout",
     "output_type": "stream",
     "text": [
      "47.13\n",
      "51.77\n",
      "52.1\n"
     ]
    }
   ],
   "source": [
    "print(F(costos_disminuidos[1], 159.95))\n",
    "print(F(costos_disminuidos[3], 331.27))\n",
    "print(F(costos_disminuidos[5], 349.54))"
   ]
  },
  {
   "cell_type": "code",
   "execution_count": 120,
   "metadata": {},
   "outputs": [],
   "source": [
    "tamaños_bodegas = {1: 1800, 4: 4600, 8: 4300}\n",
    "costos_disminuidos2 = simulación(1000)"
   ]
  },
  {
   "cell_type": "code",
   "execution_count": 122,
   "metadata": {},
   "outputs": [
    {
     "data": {
      "image/png": "[encoded data removed]",
      "text/plain": [
       "<Figure size 864x288 with 3 Axes>"
      ]
     },
     "metadata": {
      "needs_background": "light"
     },
     "output_type": "display_data"
    }
   ],
   "source": [
    "fig, axs = plt.subplots(1, 3, figsize=(12, 4)) \n",
    "\n",
    "# Bodega 1 - Costos Totales\n",
    "axs[0].hist(costos_disminuidos2[1], bins=50)\n",
    "axs[0].axvline(x=159.95, color='red', linestyle='dashed')\n",
    "axs[0].set_xlabel('Costos Totales')\n",
    "axs[0].set_ylabel('Frecuencia')\n",
    "axs[0].set_title('Histograma de Costos Totales (Bodega 1)')\n",
    "\n",
    "# Bodega 4 - Costos Totales\n",
    "axs[1].hist(costos_disminuidos2[3], bins=50, color='orange')\n",
    "axs[1].axvline(x=331.27, color='red', linestyle='dashed')\n",
    "axs[1].set_xlabel('Costos Totales')\n",
    "axs[1].set_ylabel('Frecuencia')\n",
    "axs[1].set_title('Histograma de Costos Totales (Bodega 4)')\n",
    "\n",
    "# Bodega 8 - Costos Totales\n",
    "axs[2].hist(costos_disminuidos2[5], bins=50, color='green')\n",
    "axs[2].axvline(x=349.54, color='red', linestyle='dashed')\n",
    "axs[2].set_xlabel('Costos Totales')\n",
    "axs[2].set_ylabel('Frecuencia')\n",
    "axs[2].set_title('Histograma de Costos Totales (Bodega 8)')\n",
    "\n",
    "plt.tight_layout()\n",
    "plt.show()"
   ]
  },
  {
   "cell_type": "markdown",
   "metadata": {},
   "source": [
    "Tamaños Óptimos Caso Futuro LAP"
   ]
  },
  {
   "cell_type": "markdown",
   "metadata": {},
   "source": [
    "![A](Tamaños_Caso_Futuro_LAP.jpg)"
   ]
  },
  {
   "cell_type": "markdown",
   "metadata": {},
   "source": []
  }
 ],
 "metadata": {
  "kernelspec": {
   "display_name": "Python 3",
   "language": "python",
   "name": "python3"
  },
  "language_info": {
   "codemirror_mode": {
    "name": "ipython",
    "version": 3
   },
   "file_extension": ".py",
   "mimetype": "text/x-python",
   "name": "python",
   "nbconvert_exporter": "python",
   "pygments_lexer": "ipython3",
   "version": "3.8.8"
  }
 },
 "nbformat": 4,
 "nbformat_minor": 2
}
