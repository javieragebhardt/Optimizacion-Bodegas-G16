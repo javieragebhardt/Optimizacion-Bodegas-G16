{
 "cells": [
  {
   "cell_type": "markdown",
   "metadata": {},
   "source": [
    "# Modelo para Capstone"
   ]
  },
  {
   "cell_type": "markdown",
   "metadata": {},
   "source": [
    "### Manejo de datos "
   ]
  },
  {
   "cell_type": "code",
   "execution_count": 9,
   "metadata": {},
   "outputs": [],
   "source": [
    "import pandas as pd\n",
    "from gurobipy import *\n",
    "import numpy as np\n"
   ]
  },
  {
   "cell_type": "code",
   "execution_count": 10,
   "metadata": {},
   "outputs": [],
   "source": [
    "bdd_ventas = pd.read_excel(\"Base de Datos Bodega.xlsx\")\n",
    "bdd_proyeccion = pd.read_excel(\"Base de Datos Bodega.xlsx\", sheet_name=1)\n",
    "bdd_bodegas = pd.read_excel(\"Base de Datos Bodega.xlsx\", sheet_name=2)\n",
    "bdd_comunas = pd.read_excel(\"Base de Datos Bodega.xlsx\", sheet_name=3)"
   ]
  },
  {
   "cell_type": "code",
   "execution_count": 11,
   "metadata": {},
   "outputs": [],
   "source": [
    "# Pasamos la columna de fechas a formato de fechas\n",
    "bdd_ventas['Fecha'] = pd.to_datetime(bdd_ventas['Fecha'])\n",
    "bdd_proyeccion['Fecha'] =pd.to_datetime(bdd_proyeccion['Fecha'])"
   ]
  },
  {
   "cell_type": "code",
   "execution_count": 12,
   "metadata": {},
   "outputs": [],
   "source": [
    "#Creamos el df de ventas agrupadas por cliente\n",
    "bdd_ventas_agrupadas = bdd_ventas.groupby(\"ID Cliente\")[\"Cantidad\"].sum().reset_index()"
   ]
  },
  {
   "cell_type": "code",
   "execution_count": 16,
   "metadata": {},
   "outputs": [
    {
     "data": {
      "text/html": [
       "<div>\n",
       "<style scoped>\n",
       "    .dataframe tbody tr th:only-of-type {\n",
       "        vertical-align: middle;\n",
       "    }\n",
       "\n",
       "    .dataframe tbody tr th {\n",
       "        vertical-align: top;\n",
       "    }\n",
       "\n",
       "    .dataframe thead th {\n",
       "        text-align: right;\n",
       "    }\n",
       "</style>\n",
       "<table border=\"1\" class=\"dataframe\">\n",
       "  <thead>\n",
       "    <tr style=\"text-align: right;\">\n",
       "      <th></th>\n",
       "      <th>ID Cliente</th>\n",
       "      <th>Cantidad</th>\n",
       "    </tr>\n",
       "  </thead>\n",
       "  <tbody>\n",
       "    <tr>\n",
       "      <th>0</th>\n",
       "      <td>1</td>\n",
       "      <td>1728.164816</td>\n",
       "    </tr>\n",
       "    <tr>\n",
       "      <th>1</th>\n",
       "      <td>2</td>\n",
       "      <td>878.660744</td>\n",
       "    </tr>\n",
       "    <tr>\n",
       "      <th>2</th>\n",
       "      <td>3</td>\n",
       "      <td>12311.242240</td>\n",
       "    </tr>\n",
       "    <tr>\n",
       "      <th>3</th>\n",
       "      <td>4</td>\n",
       "      <td>70756.899376</td>\n",
       "    </tr>\n",
       "    <tr>\n",
       "      <th>4</th>\n",
       "      <td>5</td>\n",
       "      <td>418.653512</td>\n",
       "    </tr>\n",
       "    <tr>\n",
       "      <th>...</th>\n",
       "      <td>...</td>\n",
       "      <td>...</td>\n",
       "    </tr>\n",
       "    <tr>\n",
       "      <th>2872</th>\n",
       "      <td>3123</td>\n",
       "      <td>93.600000</td>\n",
       "    </tr>\n",
       "    <tr>\n",
       "      <th>2873</th>\n",
       "      <td>3124</td>\n",
       "      <td>4.000000</td>\n",
       "    </tr>\n",
       "    <tr>\n",
       "      <th>2874</th>\n",
       "      <td>3125</td>\n",
       "      <td>16.000000</td>\n",
       "    </tr>\n",
       "    <tr>\n",
       "      <th>2875</th>\n",
       "      <td>3126</td>\n",
       "      <td>64.000000</td>\n",
       "    </tr>\n",
       "    <tr>\n",
       "      <th>2876</th>\n",
       "      <td>3127</td>\n",
       "      <td>112.800000</td>\n",
       "    </tr>\n",
       "  </tbody>\n",
       "</table>\n",
       "<p>2877 rows × 2 columns</p>\n",
       "</div>"
      ],
      "text/plain": [
       "      ID Cliente      Cantidad\n",
       "0              1   1728.164816\n",
       "1              2    878.660744\n",
       "2              3  12311.242240\n",
       "3              4  70756.899376\n",
       "4              5    418.653512\n",
       "...          ...           ...\n",
       "2872        3123     93.600000\n",
       "2873        3124      4.000000\n",
       "2874        3125     16.000000\n",
       "2875        3126     64.000000\n",
       "2876        3127    112.800000\n",
       "\n",
       "[2877 rows x 2 columns]"
      ]
     },
     "execution_count": 16,
     "metadata": {},
     "output_type": "execute_result"
    }
   ],
   "source": [
    "bdd_ventas_agrupadas"
   ]
  },
  {
   "cell_type": "code",
   "execution_count": 18,
   "metadata": {},
   "outputs": [],
   "source": [
    "# Revisamos si hay datos faltantes\n",
    "#bdd_comunas.isna().any(axis=1).sum() "
   ]
  },
  {
   "cell_type": "code",
   "execution_count": 55,
   "metadata": {},
   "outputs": [],
   "source": [
    "bdd_demandas = bdd_ventas[\"ID Cliente\"].value_counts() #Demandas por clientes"
   ]
  },
  {
   "cell_type": "markdown",
   "metadata": {},
   "source": [
    "Armamos diccionarios con valores "
   ]
  },
  {
   "cell_type": "code",
   "execution_count": 68,
   "metadata": {},
   "outputs": [],
   "source": [
    "dict_bodegas = bdd_bodegas.to_dict(orient='index') #Keys del 0 al 9\n",
    "dict_comunas = bdd_comunas.to_dict(orient='index') #keys del 0 al 342"
   ]
  },
  {
   "cell_type": "code",
   "execution_count": 67,
   "metadata": {},
   "outputs": [
    {
     "data": {
      "text/plain": [
       "{0: {'ID Bodega': 1, 'LAT': -29.96233333333333, 'LONG': -71.293},\n",
       " 1: {'ID Bodega': 2, 'LAT': -38.50433333333334, 'LONG': -72.40633333333334},\n",
       " 2: {'ID Bodega': 3, 'LAT': -32.885, 'LONG': -71.236},\n",
       " 3: {'ID Bodega': 4, 'LAT': -36.92266666666666, 'LONG': -72.349},\n",
       " 4: {'ID Bodega': 5, 'LAT': -35.85, 'LONG': -71.58166666666666},\n",
       " 5: {'ID Bodega': 6, 'LAT': -34.95733333333333, 'LONG': -71.20933333333333},\n",
       " 6: {'ID Bodega': 7, 'LAT': -34.58266666666667, 'LONG': -70.97966666666667},\n",
       " 7: {'ID Bodega': 8, 'LAT': -34.138, 'LONG': -70.72566666666667},\n",
       " 8: {'ID Bodega': 9, 'LAT': -40.55933333333333, 'LONG': -73.10733333333333},\n",
       " 9: {'ID Bodega': 10, 'LAT': -36.599, 'LONG': -72.091}}"
      ]
     },
     "execution_count": 67,
     "metadata": {},
     "output_type": "execute_result"
    }
   ],
   "source": [
    "dict_bodegas"
   ]
  },
  {
   "cell_type": "markdown",
   "metadata": {},
   "source": [
    "### Matrices de distancias"
   ]
  },
  {
   "cell_type": "markdown",
   "metadata": {},
   "source": [
    "Acá deje los índices de las bodegas dentro del diccionario para evitar confusiones, porque parten en 1 pero las comunas en 0."
   ]
  },
  {
   "cell_type": "markdown",
   "metadata": {},
   "source": [
    "#### Distancias Manhattan"
   ]
  },
  {
   "cell_type": "code",
   "execution_count": 82,
   "metadata": {},
   "outputs": [],
   "source": [
    "# Supongamos que tienes los diccionarios 'dict_bodegas' y 'dict_comunas'\n",
    "\n",
    "# Radio aproximado de la Tierra en metros\n",
    "radio_tierra = 6371000  # metros\n",
    "\n",
    "# Crear una matriz de distancias con ceros\n",
    "num_bodegas = len(dict_bodegas)\n",
    "num_comunas = len(dict_comunas)\n",
    "matriz_manhattan = np.zeros((num_bodegas, num_comunas))\n",
    "\n",
    "# Llenar la matriz de distancias\n",
    "for i, (bodega, bodega_coords) in enumerate(dict_bodegas.items()): #Revisamos todas las tuplas (key, valores) del diccionario de bodegas\n",
    "    for j, (comuna, comuna_coords) in enumerate(dict_comunas.items()): #Revisamos todas las tuplas (key, valores) del diccionario de comunas\n",
    "\n",
    "        # Sacamos la diferencia y hacemos la conversión a metros\n",
    "        lat_diff = abs(bodega_coords['LAT'] - comuna_coords['LAT']) * (np.pi / 180) * radio_tierra\n",
    "        lon_diff = abs(bodega_coords['LONG'] - comuna_coords['LON']) * (np.pi / 180) * radio_tierra * np.cos((bodega_coords['LAT'] + comuna_coords['LAT']) * 0.5 * (np.pi / 180)) \n",
    "        \n",
    "        matriz_manhattan[i, j] = round((lat_diff + lon_diff)/1000, 2)  # Distancia Manhattan en metros, redondeado al segundo decimal"
   ]
  },
  {
   "cell_type": "markdown",
   "metadata": {},
   "source": [
    "#### Distancias sobre la red"
   ]
  },
  {
   "cell_type": "code",
   "execution_count": 84,
   "metadata": {},
   "outputs": [],
   "source": [
    "#Recomiendo descargar ocupando este código. Lo que viene a continuación demora harto en correr."
   ]
  },
  {
   "cell_type": "code",
   "execution_count": null,
   "metadata": {},
   "outputs": [],
   "source": []
  },
  {
   "cell_type": "markdown",
   "metadata": {},
   "source": [
    "### Modelo"
   ]
  },
  {
   "cell_type": "code",
   "execution_count": null,
   "metadata": {},
   "outputs": [],
   "source": []
  },
  {
   "cell_type": "code",
   "execution_count": null,
   "metadata": {},
   "outputs": [],
   "source": []
  }
 ],
 "metadata": {
  "kernelspec": {
   "display_name": "Python 3",
   "language": "python",
   "name": "python3"
  },
  "language_info": {
   "codemirror_mode": {
    "name": "ipython",
    "version": 3
   },
   "file_extension": ".py",
   "mimetype": "text/x-python",
   "name": "python",
   "nbconvert_exporter": "python",
   "pygments_lexer": "ipython3",
   "version": "3.11.3"
  },
  "orig_nbformat": 4
 },
 "nbformat": 4,
 "nbformat_minor": 2
}
