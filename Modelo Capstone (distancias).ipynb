{
 "cells": [
  {
   "cell_type": "markdown",
   "metadata": {},
   "source": [
    "# Modelo para Capstone"
   ]
  },
  {
   "cell_type": "markdown",
   "metadata": {},
   "source": [
    "### Manejo de datos "
   ]
  },
  {
   "cell_type": "code",
   "execution_count": 7,
   "metadata": {},
   "outputs": [],
   "source": [
    "# Revisamos si hay datos faltantes\n",
    "#bdd_comunas.isna().any(axis=1).sum() "
   ]
  },
  {
   "cell_type": "code",
   "execution_count": 8,
   "metadata": {},
   "outputs": [],
   "source": [
    "bdd_demandas = bdd_ventas[\"ID Cliente\"].value_counts() #Demandas por clientes"
   ]
  },
  {
   "cell_type": "code",
   "execution_count": 10,
   "metadata": {},
   "outputs": [
    {
     "data": {
      "text/plain": [
       "{0: {'ID Bodega': 1, 'LAT': -29.96233333333333, 'LONG': -71.293},\n",
       " 1: {'ID Bodega': 2, 'LAT': -38.50433333333334, 'LONG': -72.40633333333334},\n",
       " 2: {'ID Bodega': 3, 'LAT': -32.885, 'LONG': -71.236},\n",
       " 3: {'ID Bodega': 4, 'LAT': -36.92266666666666, 'LONG': -72.349},\n",
       " 4: {'ID Bodega': 5, 'LAT': -35.85, 'LONG': -71.58166666666666},\n",
       " 5: {'ID Bodega': 6, 'LAT': -34.95733333333333, 'LONG': -71.20933333333333},\n",
       " 6: {'ID Bodega': 7, 'LAT': -34.58266666666667, 'LONG': -70.97966666666667},\n",
       " 7: {'ID Bodega': 8, 'LAT': -34.138, 'LONG': -70.72566666666667},\n",
       " 8: {'ID Bodega': 9, 'LAT': -40.55933333333333, 'LONG': -73.10733333333333},\n",
       " 9: {'ID Bodega': 10, 'LAT': -36.599, 'LONG': -72.091}}"
      ]
     },
     "execution_count": 10,
     "metadata": {},
     "output_type": "execute_result"
    }
   ],
   "source": [
    "dict_bodegas"
   ]
  },
  {
   "cell_type": "markdown",
   "metadata": {},
   "source": [
    "#### Distancias Manhattan"
   ]
  },
  {
   "cell_type": "code",
   "execution_count": 11,
   "metadata": {},
   "outputs": [],
   "source": [
    "# Supongamos que tienes los diccionarios 'dict_bodegas' y 'dict_comunas'\n",
    "\n",
    "# Radio aproximado de la Tierra en metros\n",
    "radio_tierra = 6371000  # metros\n",
    "\n",
    "# Crear una matriz de distancias con ceros\n",
    "num_bodegas = len(dict_bodegas)\n",
    "num_comunas = len(dict_comunas)\n",
    "matriz_manhattan = np.zeros((num_bodegas, num_comunas))\n",
    "\n",
    "# Llenar la matriz de distancias\n",
    "for i, (bodega, bodega_coords) in enumerate(dict_bodegas.items()): #Revisamos todas las tuplas (key, valores) del diccionario de bodegas\n",
    "    for j, (comuna, comuna_coords) in enumerate(dict_comunas.items()): #Revisamos todas las tuplas (key, valores) del diccionario de comunas\n",
    "\n",
    "        # Sacamos la diferencia y hacemos la conversión a metros\n",
    "        lat_diff = abs(bodega_coords['LAT'] - comuna_coords['LAT']) * (np.pi / 180) * radio_tierra\n",
    "        lon_diff = abs(bodega_coords['LONG'] - comuna_coords['LON']) * (np.pi / 180) * radio_tierra * np.cos((bodega_coords['LAT'] + comuna_coords['LAT']) * 0.5 * (np.pi / 180)) \n",
    "        \n",
    "        matriz_manhattan[i, j] = round((lat_diff + lon_diff)/1000, 2)  # Distancia Manhattan en metros, redondeado al segundo decimal"
   ]
  },
  {
   "cell_type": "code",
   "execution_count": 12,
   "metadata": {},
   "outputs": [],
   "source": [
    "#Recomiendo descargar ocupando este código. Lo que viene a continuación demora harto en correr."
   ]
  },
  {
   "cell_type": "code",
   "execution_count": null,
   "metadata": {},
   "outputs": [],
   "source": []
  },
  {
   "cell_type": "markdown",
   "metadata": {},
   "source": [
    "### Modelo"
   ]
  },
  {
   "cell_type": "code",
   "execution_count": 13,
   "metadata": {},
   "outputs": [
    {
     "name": "stdout",
     "output_type": "stream",
     "text": [
      "Set parameter Username\n",
      "Academic license - for non-commercial use only - expires 2024-06-05\n"
     ]
    }
   ],
   "source": [
    "m = Model()"
   ]
  }
 ],
 "metadata": {
  "kernelspec": {
   "display_name": "Python 3",
   "language": "python",
   "name": "python3"
  },
  "language_info": {
   "codemirror_mode": {
    "name": "ipython",
    "version": 3
   },
   "file_extension": ".py",
   "mimetype": "text/x-python",
   "name": "python",
   "nbconvert_exporter": "python",
   "pygments_lexer": "ipython3",
   "version": "3.10.5"
  },
  "orig_nbformat": 4
 },
 "nbformat": 4,
 "nbformat_minor": 2
}
