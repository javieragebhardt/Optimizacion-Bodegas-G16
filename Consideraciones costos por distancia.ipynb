{
 "cells": [
  {
   "cell_type": "markdown",
   "metadata": {},
   "source": [
    "# Cálculo de ahorros para recomendaciones finales"
   ]
  },
  {
   "cell_type": "code",
   "execution_count": 2,
   "metadata": {},
   "outputs": [
    {
     "name": "stdout",
     "output_type": "stream",
     "text": [
      "El costo por kilómetro del camión es: 162.5 pesos\n"
     ]
    }
   ],
   "source": [
    "def costo_por_kilometro(salario_chofer, horas_diarias_chofer, dias_semana_trabajo, velocidad_camion, consumo_combustible, costo_combustible_litro):\n",
    "    horas_mes = horas_diarias_chofer * dias_semana_trabajo * 4  # Suponiendo 4 semanas al mes\n",
    "    salario_por_hora = salario_chofer / horas_mes\n",
    "\n",
    "    distancia_mensual = velocidad_camion * horas_diarias_chofer * dias_semana_trabajo * 4  # Distancia mensual con las horas del chofer\n",
    "\n",
    "    costo_combustible_mes = (distancia_mensual / consumo_combustible) * costo_combustible_litro\n",
    "    costo_kilometro = costo_combustible_mes / distancia_mensual\n",
    "\n",
    "    return costo_kilometro\n",
    "\n",
    "# Ejemplo de uso\n",
    "salario_chofer = 700000  # Salario mensual del chofer\n",
    "horas_diarias_chofer = 8\n",
    "dias_semana_trabajo = 5\n",
    "velocidad_camion = 45  # km/hora\n",
    "consumo_combustible = 8  # km/L\n",
    "costo_combustible_litro = 1300  # pesos/L\n",
    "\n",
    "costo = costo_por_kilometro(salario_chofer, horas_diarias_chofer, dias_semana_trabajo, velocidad_camion, consumo_combustible, costo_combustible_litro)\n",
    "print(\"El costo por kilómetro del camión es:\", costo, \"pesos\")"
   ]
  },
  {
   "cell_type": "code",
   "execution_count": null,
   "metadata": {},
   "outputs": [],
   "source": [
    "162.5*"
   ]
  }
 ],
 "metadata": {
  "kernelspec": {
   "display_name": "Python 3",
   "language": "python",
   "name": "python3"
  },
  "language_info": {
   "codemirror_mode": {
    "name": "ipython",
    "version": 3
   },
   "file_extension": ".py",
   "mimetype": "text/x-python",
   "name": "python",
   "nbconvert_exporter": "python",
   "pygments_lexer": "ipython3",
   "version": "3.11.3"
  }
 },
 "nbformat": 4,
 "nbformat_minor": 2
}
